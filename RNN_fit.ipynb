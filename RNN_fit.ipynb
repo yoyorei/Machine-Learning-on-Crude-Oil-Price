{
 "cells": [
  {
   "cell_type": "code",
   "execution_count": 1,
   "metadata": {},
   "outputs": [
    {
     "name": "stderr",
     "output_type": "stream",
     "text": [
      "/Users/YoYoYe/anaconda3/lib/python3.7/importlib/_bootstrap.py:219: RuntimeWarning: compiletime version 3.6 of module 'tensorflow.python.framework.fast_tensor_util' does not match runtime version 3.7\n",
      "  return f(*args, **kwds)\n"
     ]
    }
   ],
   "source": [
    "import numpy as np\n",
    "import pandas as pd\n",
    "import math\n",
    "import sklearn\n",
    "import sklearn.preprocessing\n",
    "import datetime\n",
    "import os\n",
    "import matplotlib.pyplot as plt\n",
    "import tensorflow as tf"
   ]
  },
  {
   "cell_type": "code",
   "execution_count": 2,
   "metadata": {},
   "outputs": [
    {
     "data": {
      "text/html": [
       "<div>\n",
       "<style scoped>\n",
       "    .dataframe tbody tr th:only-of-type {\n",
       "        vertical-align: middle;\n",
       "    }\n",
       "\n",
       "    .dataframe tbody tr th {\n",
       "        vertical-align: top;\n",
       "    }\n",
       "\n",
       "    .dataframe thead th {\n",
       "        text-align: right;\n",
       "    }\n",
       "</style>\n",
       "<table border=\"1\" class=\"dataframe\">\n",
       "  <thead>\n",
       "    <tr style=\"text-align: right;\">\n",
       "      <th></th>\n",
       "      <th>Date</th>\n",
       "      <th>US Production</th>\n",
       "      <th>US Import</th>\n",
       "      <th>US Exports</th>\n",
       "      <th>US Net Import</th>\n",
       "      <th>Inventory</th>\n",
       "      <th>Adjustment</th>\n",
       "      <th>Import from OPEC</th>\n",
       "      <th>Crude Oil and Liquid Fuels Supply</th>\n",
       "      <th>OPEC Production Capacity</th>\n",
       "      <th>Net Inventory Withdrawals</th>\n",
       "      <th>OPEC Production</th>\n",
       "      <th>Value</th>\n",
       "      <th>Nominal</th>\n",
       "    </tr>\n",
       "  </thead>\n",
       "  <tbody>\n",
       "    <tr>\n",
       "      <th>0</th>\n",
       "      <td>1/31/94</td>\n",
       "      <td>6816779.0</td>\n",
       "      <td>5945000</td>\n",
       "      <td>110000</td>\n",
       "      <td>5835290.0</td>\n",
       "      <td>338067000.0</td>\n",
       "      <td>733963.032</td>\n",
       "      <td>2892000</td>\n",
       "      <td>9454972.161</td>\n",
       "      <td>27959177.0</td>\n",
       "      <td>-658883.053</td>\n",
       "      <td>24493494.87</td>\n",
       "      <td>24.80</td>\n",
       "      <td>14.48</td>\n",
       "    </tr>\n",
       "    <tr>\n",
       "      <th>1</th>\n",
       "      <td>2/28/94</td>\n",
       "      <td>6770326.0</td>\n",
       "      <td>6313000</td>\n",
       "      <td>116000</td>\n",
       "      <td>6197498.0</td>\n",
       "      <td>335351000.0</td>\n",
       "      <td>77211.714</td>\n",
       "      <td>3237000</td>\n",
       "      <td>9313861.429</td>\n",
       "      <td>27959177.0</td>\n",
       "      <td>2352418.325</td>\n",
       "      <td>24477904.76</td>\n",
       "      <td>25.25</td>\n",
       "      <td>14.79</td>\n",
       "    </tr>\n",
       "    <tr>\n",
       "      <th>2</th>\n",
       "      <td>3/31/94</td>\n",
       "      <td>6745622.0</td>\n",
       "      <td>6372000</td>\n",
       "      <td>41000</td>\n",
       "      <td>6331468.0</td>\n",
       "      <td>342345000.0</td>\n",
       "      <td>242361.355</td>\n",
       "      <td>3006000</td>\n",
       "      <td>9380460.548</td>\n",
       "      <td>27959177.0</td>\n",
       "      <td>880568.964</td>\n",
       "      <td>24520851.10</td>\n",
       "      <td>28.80</td>\n",
       "      <td>16.90</td>\n",
       "    </tr>\n",
       "    <tr>\n",
       "      <th>3</th>\n",
       "      <td>4/30/94</td>\n",
       "      <td>6612102.0</td>\n",
       "      <td>6955000</td>\n",
       "      <td>120000</td>\n",
       "      <td>6835867.0</td>\n",
       "      <td>339391000.0</td>\n",
       "      <td>302264.000</td>\n",
       "      <td>3728000</td>\n",
       "      <td>9303302.667</td>\n",
       "      <td>27959177.0</td>\n",
       "      <td>-734538.343</td>\n",
       "      <td>24370063.76</td>\n",
       "      <td>31.18</td>\n",
       "      <td>18.31</td>\n",
       "    </tr>\n",
       "    <tr>\n",
       "      <th>4</th>\n",
       "      <td>5/31/94</td>\n",
       "      <td>6688193.0</td>\n",
       "      <td>7198000</td>\n",
       "      <td>118000</td>\n",
       "      <td>7080258.0</td>\n",
       "      <td>331544000.0</td>\n",
       "      <td>259904.258</td>\n",
       "      <td>3771000</td>\n",
       "      <td>9339128.968</td>\n",
       "      <td>27959177.0</td>\n",
       "      <td>-2706335.628</td>\n",
       "      <td>24513404.04</td>\n",
       "      <td>32.89</td>\n",
       "      <td>19.37</td>\n",
       "    </tr>\n",
       "  </tbody>\n",
       "</table>\n",
       "</div>"
      ],
      "text/plain": [
       "      Date  US Production  US Import  US Exports  US Net Import    Inventory  \\\n",
       "0  1/31/94      6816779.0    5945000      110000      5835290.0  338067000.0   \n",
       "1  2/28/94      6770326.0    6313000      116000      6197498.0  335351000.0   \n",
       "2  3/31/94      6745622.0    6372000       41000      6331468.0  342345000.0   \n",
       "3  4/30/94      6612102.0    6955000      120000      6835867.0  339391000.0   \n",
       "4  5/31/94      6688193.0    7198000      118000      7080258.0  331544000.0   \n",
       "\n",
       "   Adjustment  Import from OPEC  Crude Oil and Liquid Fuels Supply  \\\n",
       "0  733963.032           2892000                        9454972.161   \n",
       "1   77211.714           3237000                        9313861.429   \n",
       "2  242361.355           3006000                        9380460.548   \n",
       "3  302264.000           3728000                        9303302.667   \n",
       "4  259904.258           3771000                        9339128.968   \n",
       "\n",
       "   OPEC Production Capacity  Net Inventory Withdrawals  OPEC Production  \\\n",
       "0                27959177.0                -658883.053      24493494.87   \n",
       "1                27959177.0                2352418.325      24477904.76   \n",
       "2                27959177.0                 880568.964      24520851.10   \n",
       "3                27959177.0                -734538.343      24370063.76   \n",
       "4                27959177.0               -2706335.628      24513404.04   \n",
       "\n",
       "   Value  Nominal  \n",
       "0  24.80    14.48  \n",
       "1  25.25    14.79  \n",
       "2  28.80    16.90  \n",
       "3  31.18    18.31  \n",
       "4  32.89    19.37  "
      ]
     },
     "execution_count": 2,
     "metadata": {},
     "output_type": "execute_result"
    }
   ],
   "source": [
    "valid_set_size_percentage = 10 \n",
    "test_set_size_percentage = 10 \n",
    "\n",
    "oil_df = pd.read_csv(\"us_crude_oil.csv\")\n",
    "oil_df = oil_df.iloc[::-1].reset_index(drop=True)\n",
    "oil_df.head()"
   ]
  },
  {
   "cell_type": "code",
   "execution_count": 3,
   "metadata": {},
   "outputs": [
    {
     "data": {
      "text/plain": [
       "Index(['Date', 'US Production', 'US Import', 'US Exports', 'US Net Import',\n",
       "       'Inventory', 'Adjustment', 'Import from OPEC',\n",
       "       'Crude Oil and Liquid Fuels Supply', 'OPEC Production Capacity',\n",
       "       'Net Inventory Withdrawals', 'OPEC Production', 'Value', 'Nominal'],\n",
       "      dtype='object')"
      ]
     },
     "execution_count": 3,
     "metadata": {},
     "output_type": "execute_result"
    }
   ],
   "source": [
    "oil_df.columns"
   ]
  },
  {
   "cell_type": "code",
   "execution_count": 22,
   "metadata": {},
   "outputs": [],
   "source": [
    "def normalize_data(df):\n",
    "    min_max_scaler = sklearn.preprocessing.MinMaxScaler()\n",
    "    #df['US Production'] = min_max_scaler.fit_transform(df['US Production'].values.reshape(-1,1))\n",
    "    #df['US Import'] = min_max_scaler.fit_transform(df['US Import'].values.reshape(-1,1))\n",
    "    #df['US Exports'] = min_max_scaler.fit_transform(df['US Exports'].values.reshape(-1,1))\n",
    "    #df['US Net Import'] = min_max_scaler.fit_transform(df['US Net Import'].values.reshape(-1,1))\n",
    "    #df['Inventory'] = min_max_scaler.fit_transform(df['Inventory'].values.reshape(-1,1))\n",
    "    #df['Adjustment'] = min_max_scaler.fit_transform(df['Adjustment'].values.reshape(-1,1))\n",
    "    #df['Import from OPEC'] = min_max_scaler.fit_transform(df['Import from OPEC'].values.reshape(-1,1))\n",
    "    #df['Crude Oil and Liquid Fuels Supply'] = min_max_scaler.fit_transform(df['Crude Oil and Liquid Fuels Supply'].values.reshape(-1,1))\n",
    "    #df['OPEC Production Capacity'] = min_max_scaler.fit_transform(df['OPEC Production Capacity'].values.reshape(-1,1))\n",
    "    #df['Net Inventory Withdrawals'] = min_max_scaler.fit_transform(df['Net Inventory Withdrawals'].values.reshape(-1,1))\n",
    "    #df['OPEC Production'] = min_max_scaler.fit_transform(df['OPEC Production'].values.reshape(-1,1))\n",
    "    df['Value'] = min_max_scaler.fit_transform(df['Value'].values.reshape(-1,1))\n",
    "    return df"
   ]
  },
  {
   "cell_type": "code",
   "execution_count": 5,
   "metadata": {},
   "outputs": [],
   "source": [
    "def load_data(stock, seq_len):\n",
    "    data_raw = stock.as_matrix() # convert to numpy array\n",
    "    data = []\n",
    "    \n",
    "    # create all possible sequences of length seq_len\n",
    "    for index in range(len(data_raw) - seq_len): \n",
    "        data.append(data_raw[index: index + seq_len])\n",
    "    \n",
    "    data = np.array(data);\n",
    "    valid_set_size = int(np.round(valid_set_size_percentage/100*data.shape[0]));  \n",
    "    test_set_size = int(np.round(test_set_size_percentage/100*data.shape[0]));\n",
    "    train_set_size = data.shape[0] - (valid_set_size + test_set_size);\n",
    "    \n",
    "    X_train = data[:train_set_size,:-1,:]\n",
    "    y_train = data[:train_set_size,-1,:]\n",
    "    \n",
    "    X_valid = data[train_set_size:train_set_size+valid_set_size,:-1,:]\n",
    "    y_valid = data[train_set_size:train_set_size+valid_set_size,-1,:]\n",
    "    \n",
    "    X_test = data[train_set_size+valid_set_size:,:-1,:]\n",
    "    y_test = data[train_set_size+valid_set_size:,-1,:]\n",
    "    \n",
    "    return [X_train, y_train, X_valid, y_valid, X_test, y_test]"
   ]
  },
  {
   "cell_type": "code",
   "execution_count": 24,
   "metadata": {},
   "outputs": [
    {
     "name": "stdout",
     "output_type": "stream",
     "text": [
      "oil_data.columns.values =  ['Value']\n"
     ]
    }
   ],
   "source": [
    "oil_data = oil_df[[\"Value\"]]\n",
    "#oil_data.drop(['Date'],1,inplace=True)\n",
    "#oil_data.drop(['Nominal'],1,inplace=True)\n",
    "\n",
    "cols = list(oil_data.columns.values)\n",
    "print('oil_data.columns.values = ', cols)"
   ]
  },
  {
   "cell_type": "code",
   "execution_count": 25,
   "metadata": {},
   "outputs": [
    {
     "data": {
      "text/html": [
       "<div>\n",
       "<style scoped>\n",
       "    .dataframe tbody tr th:only-of-type {\n",
       "        vertical-align: middle;\n",
       "    }\n",
       "\n",
       "    .dataframe tbody tr th {\n",
       "        vertical-align: top;\n",
       "    }\n",
       "\n",
       "    .dataframe thead th {\n",
       "        text-align: right;\n",
       "    }\n",
       "</style>\n",
       "<table border=\"1\" class=\"dataframe\">\n",
       "  <thead>\n",
       "    <tr style=\"text-align: right;\">\n",
       "      <th></th>\n",
       "      <th>Value</th>\n",
       "    </tr>\n",
       "  </thead>\n",
       "  <tbody>\n",
       "    <tr>\n",
       "      <th>0</th>\n",
       "      <td>0.053020</td>\n",
       "    </tr>\n",
       "    <tr>\n",
       "      <th>1</th>\n",
       "      <td>0.056156</td>\n",
       "    </tr>\n",
       "    <tr>\n",
       "      <th>2</th>\n",
       "      <td>0.080889</td>\n",
       "    </tr>\n",
       "    <tr>\n",
       "      <th>3</th>\n",
       "      <td>0.097471</td>\n",
       "    </tr>\n",
       "    <tr>\n",
       "      <th>4</th>\n",
       "      <td>0.109385</td>\n",
       "    </tr>\n",
       "  </tbody>\n",
       "</table>\n",
       "</div>"
      ],
      "text/plain": [
       "      Value\n",
       "0  0.053020\n",
       "1  0.056156\n",
       "2  0.080889\n",
       "3  0.097471\n",
       "4  0.109385"
      ]
     },
     "execution_count": 25,
     "metadata": {},
     "output_type": "execute_result"
    }
   ],
   "source": [
    "oil_norm = oil_data.copy()\n",
    "oil_norm = normalize_data(oil_norm)\n",
    "oil_norm.head()"
   ]
  },
  {
   "cell_type": "code",
   "execution_count": 26,
   "metadata": {},
   "outputs": [
    {
     "name": "stdout",
     "output_type": "stream",
     "text": [
      "x_train.shape =  (223, 19, 1)\n",
      "y_train.shape =  (223, 1)\n",
      "x_valid.shape =  (28, 19, 1)\n",
      "y_valid.shape =  (28, 1)\n",
      "x_test.shape =  (28, 19, 1)\n",
      "y_test.shape =  (28, 1)\n"
     ]
    },
    {
     "name": "stderr",
     "output_type": "stream",
     "text": [
      "/Users/YoYoYe/anaconda3/lib/python3.7/site-packages/ipykernel_launcher.py:2: FutureWarning: Method .as_matrix will be removed in a future version. Use .values instead.\n",
      "  \n"
     ]
    }
   ],
   "source": [
    "# create train, test data\n",
    "seq_len = 20 # choose sequence length\n",
    "\n",
    "X_train, y_train, X_valid, y_valid, X_test, y_test = load_data(oil_norm, seq_len)\n",
    "print('x_train.shape = ',X_train.shape)\n",
    "print('y_train.shape = ', y_train.shape)\n",
    "print('x_valid.shape = ',X_valid.shape)\n",
    "print('y_valid.shape = ', y_valid.shape)\n",
    "print('x_test.shape = ', X_test.shape)\n",
    "print('y_test.shape = ',y_test.shape)"
   ]
  },
  {
   "cell_type": "code",
   "execution_count": 27,
   "metadata": {},
   "outputs": [],
   "source": [
    "index_in_epoch = 0;\n",
    "perm_array  = np.arange(X_train.shape[0])\n",
    "np.random.shuffle(perm_array)\n",
    "\n",
    "# function to get the next batch\n",
    "def get_next_batch(batch_size):\n",
    "    global index_in_epoch, X_train, perm_array   \n",
    "    start = index_in_epoch\n",
    "    index_in_epoch += batch_size\n",
    "    \n",
    "    if index_in_epoch > X_train.shape[0]:\n",
    "        np.random.shuffle(perm_array) # shuffle permutation array\n",
    "        start = 0 # start next epoch\n",
    "        index_in_epoch = batch_size\n",
    "        \n",
    "    end = index_in_epoch\n",
    "    return X_train[perm_array[start:end]], y_train[perm_array[start:end]]\n",
    "\n",
    "# parameters\n",
    "n_steps = seq_len-1 \n",
    "n_inputs = 1\n",
    "n_neurons = 200 \n",
    "n_outputs = 1\n",
    "n_layers = 2\n",
    "learning_rate = 0.001\n",
    "batch_size = 50\n",
    "n_epochs = 100 \n",
    "train_set_size = X_train.shape[0]\n",
    "test_set_size = X_test.shape[0]\n",
    "\n",
    "tf.reset_default_graph()\n",
    "\n",
    "X = tf.placeholder(tf.float32, [None, n_steps, n_inputs])\n",
    "y = tf.placeholder(tf.float32, [None, n_outputs])"
   ]
  },
  {
   "cell_type": "code",
   "execution_count": 28,
   "metadata": {},
   "outputs": [],
   "source": [
    "# use Basic RNN Cell\n",
    "layers = [tf.contrib.rnn.BasicRNNCell(num_units=n_neurons, activation=tf.nn.elu)\n",
    "          for layer in range(n_layers)]\n",
    "\n",
    "multi_layer_cell = tf.contrib.rnn.MultiRNNCell(layers)\n",
    "rnn_outputs, states = tf.nn.dynamic_rnn(multi_layer_cell, X, dtype=tf.float32)\n",
    "\n",
    "stacked_rnn_outputs = tf.reshape(rnn_outputs, [-1, n_neurons]) \n",
    "stacked_outputs = tf.layers.dense(stacked_rnn_outputs, n_outputs)\n",
    "outputs = tf.reshape(stacked_outputs, [-1, n_steps, n_outputs])\n",
    "outputs = outputs[:,n_steps-1,:] # keep only last output of sequence\n",
    "                                              \n",
    "loss = tf.reduce_mean(tf.square(outputs - y)) # loss function = mean squared error \n",
    "optimizer = tf.train.AdamOptimizer(learning_rate=learning_rate) \n",
    "training_op = optimizer.minimize(loss)"
   ]
  },
  {
   "cell_type": "code",
   "execution_count": 29,
   "metadata": {},
   "outputs": [
    {
     "name": "stdout",
     "output_type": "stream",
     "text": [
      "0.00 epochs: MSE train/valid = 0.018580/0.093374\n",
      "4.93 epochs: MSE train/valid = 0.006289/0.007767\n",
      "9.87 epochs: MSE train/valid = 0.003021/0.005937\n",
      "14.80 epochs: MSE train/valid = 0.002554/0.005867\n",
      "19.73 epochs: MSE train/valid = 0.002289/0.005983\n",
      "24.66 epochs: MSE train/valid = 0.002172/0.006393\n",
      "29.60 epochs: MSE train/valid = 0.002148/0.003749\n",
      "34.53 epochs: MSE train/valid = 0.001913/0.004388\n",
      "39.46 epochs: MSE train/valid = 0.001842/0.004112\n",
      "44.39 epochs: MSE train/valid = 0.001979/0.005573\n",
      "49.33 epochs: MSE train/valid = 0.001741/0.004042\n",
      "54.26 epochs: MSE train/valid = 0.001694/0.003609\n",
      "59.19 epochs: MSE train/valid = 0.001974/0.002560\n",
      "64.13 epochs: MSE train/valid = 0.001680/0.003945\n",
      "69.06 epochs: MSE train/valid = 0.001665/0.004075\n",
      "73.99 epochs: MSE train/valid = 0.002022/0.002127\n",
      "78.92 epochs: MSE train/valid = 0.001612/0.002925\n",
      "83.86 epochs: MSE train/valid = 0.001596/0.003502\n",
      "88.79 epochs: MSE train/valid = 0.001675/0.002742\n",
      "93.72 epochs: MSE train/valid = 0.001582/0.003343\n",
      "98.65 epochs: MSE train/valid = 0.001605/0.004005\n"
     ]
    }
   ],
   "source": [
    "# run graph\n",
    "with tf.Session() as sess: \n",
    "    sess.run(tf.global_variables_initializer())\n",
    "    for iteration in range(int(n_epochs*train_set_size/batch_size)):\n",
    "        x_batch, y_batch = get_next_batch(batch_size) # fetch the next training batch \n",
    "        sess.run(training_op, feed_dict={X: x_batch, y: y_batch}) \n",
    "        if iteration % int(5*train_set_size/batch_size) == 0:\n",
    "            mse_train = loss.eval(feed_dict={X: X_train, y: y_train}) \n",
    "            mse_valid = loss.eval(feed_dict={X: X_valid, y: y_valid}) \n",
    "            print('%.2f epochs: MSE train/valid = %.6f/%.6f'%(\n",
    "                iteration*batch_size/train_set_size, mse_train, mse_valid))\n",
    "\n",
    "    y_train_pred = sess.run(outputs, feed_dict={X: X_train})\n",
    "    y_valid_pred = sess.run(outputs, feed_dict={X: X_valid})\n",
    "    y_test_pred = sess.run(outputs, feed_dict={X: X_test})"
   ]
  },
  {
   "cell_type": "code",
   "execution_count": 30,
   "metadata": {},
   "outputs": [
    {
     "data": {
      "text/plain": [
       "(223, 1)"
      ]
     },
     "execution_count": 30,
     "metadata": {},
     "output_type": "execute_result"
    }
   ],
   "source": [
    "y_train.shape"
   ]
  },
  {
   "cell_type": "code",
   "execution_count": 39,
   "metadata": {},
   "outputs": [
    {
     "data": {
      "image/png": "[encoded data removed]",
      "text/plain": [
       "<Figure size 1080x360 with 2 Axes>"
      ]
     },
     "metadata": {
      "needs_background": "light"
     },
     "output_type": "display_data"
    }
   ],
   "source": [
    "ft = 0 # for oil price\n",
    "\n",
    "## show predictions\n",
    "plt.figure(figsize=(15, 5));\n",
    "plt.subplot(1,2,1);\n",
    "\n",
    "plt.plot(np.arange(y_train.shape[0]), y_train[:,ft], color='blue', label='train target')\n",
    "\n",
    "plt.plot(np.arange(y_train.shape[0], y_train.shape[0]+y_valid.shape[0]), y_valid[:,ft],\n",
    "         color='gray', label='valid target')\n",
    "\n",
    "plt.plot(np.arange(y_train.shape[0]+y_valid.shape[0],\n",
    "                   y_train.shape[0]+y_test.shape[0]+y_test.shape[0]),\n",
    "         y_test[:,ft], color='black', label='test target')\n",
    "\n",
    "plt.plot(np.arange(y_train_pred.shape[0]),y_train_pred[:,ft], color='red',\n",
    "         label='train prediction')\n",
    "\n",
    "plt.plot(np.arange(y_train_pred.shape[0], y_train_pred.shape[0]+y_valid_pred.shape[0]),\n",
    "         y_valid_pred[:,ft], color='orange', label='valid prediction')\n",
    "\n",
    "plt.plot(np.arange(y_train_pred.shape[0]+y_valid_pred.shape[0],\n",
    "                   y_train_pred.shape[0]+y_valid_pred.shape[0]+y_test_pred.shape[0]),\n",
    "         y_test_pred[:,ft], color='green', label='test prediction')\n",
    "\n",
    "plt.title('past and future crude oil prices')\n",
    "plt.xlabel('time')\n",
    "plt.ylabel('normalized price')\n",
    "plt.legend(loc='best');\n",
    "\n",
    "plt.subplot(1,2,2);\n",
    "\n",
    "plt.plot(np.arange(y_train.shape[0], y_train.shape[0]+y_test.shape[0]),\n",
    "         y_test[:,ft], color='black', label='test target')\n",
    "\n",
    "plt.plot(np.arange(y_train_pred.shape[0], y_train_pred.shape[0]+y_test_pred.shape[0]),\n",
    "         y_test_pred[:,ft], color='green', label='test prediction')\n",
    "\n",
    "plt.title('future crude oil prices')\n",
    "plt.xlabel('time')\n",
    "plt.ylabel('normalized price')\n",
    "plt.legend(loc='best');\n",
    "\n",
    "plt.savefig(\"RNN_1feature.png\")"
   ]
  },
  {
   "cell_type": "code",
   "execution_count": null,
   "metadata": {},
   "outputs": [],
   "source": []
  },
  {
   "cell_type": "code",
   "execution_count": null,
   "metadata": {},
   "outputs": [],
   "source": []
  },
  {
   "cell_type": "code",
   "execution_count": null,
   "metadata": {},
   "outputs": [],
   "source": []
  }
 ],
 "metadata": {
  "kernelspec": {
   "display_name": "Python 3",
   "language": "python",
   "name": "python3"
  },
  "language_info": {
   "codemirror_mode": {
    "name": "ipython",
    "version": 3
   },
   "file_extension": ".py",
   "mimetype": "text/x-python",
   "name": "python",
   "nbconvert_exporter": "python",
   "pygments_lexer": "ipython3",
   "version": "3.7.2"
  }
 },
 "nbformat": 4,
 "nbformat_minor": 2
}
