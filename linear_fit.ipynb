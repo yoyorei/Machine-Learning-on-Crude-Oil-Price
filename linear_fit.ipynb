{
 "cells": [
  {
   "cell_type": "code",
   "execution_count": 1,
   "metadata": {},
   "outputs": [],
   "source": [
    "import pandas as pd\n",
    "import numpy as np\n",
    "from sklearn.model_selection import train_test_split\n",
    "from sklearn.preprocessing import StandardScaler\n",
    "from sklearn.linear_model import LinearRegression\n",
    "from sklearn.metrics import mean_squared_error\n",
    "import matplotlib.pyplot as plt"
   ]
  },
  {
   "cell_type": "code",
   "execution_count": 2,
   "metadata": {},
   "outputs": [
    {
     "data": {
      "text/html": [
       "<div>\n",
       "<style scoped>\n",
       "    .dataframe tbody tr th:only-of-type {\n",
       "        vertical-align: middle;\n",
       "    }\n",
       "\n",
       "    .dataframe tbody tr th {\n",
       "        vertical-align: top;\n",
       "    }\n",
       "\n",
       "    .dataframe thead th {\n",
       "        text-align: right;\n",
       "    }\n",
       "</style>\n",
       "<table border=\"1\" class=\"dataframe\">\n",
       "  <thead>\n",
       "    <tr style=\"text-align: right;\">\n",
       "      <th></th>\n",
       "      <th>Date</th>\n",
       "      <th>US Production</th>\n",
       "      <th>US Import</th>\n",
       "      <th>US Exports</th>\n",
       "      <th>US Net Import</th>\n",
       "      <th>Inventory</th>\n",
       "      <th>Adjustment</th>\n",
       "      <th>Import from OPEC</th>\n",
       "      <th>Crude Oil and Liquid Fuels Supply</th>\n",
       "      <th>OPEC Production Capacity</th>\n",
       "      <th>Net Inventory Withdrawals</th>\n",
       "      <th>OPEC Production</th>\n",
       "      <th>Value</th>\n",
       "      <th>Nominal</th>\n",
       "    </tr>\n",
       "  </thead>\n",
       "  <tbody>\n",
       "    <tr>\n",
       "      <th>0</th>\n",
       "      <td>1/31/94</td>\n",
       "      <td>6816779.0</td>\n",
       "      <td>5945000</td>\n",
       "      <td>110000</td>\n",
       "      <td>5835290.0</td>\n",
       "      <td>338067000.0</td>\n",
       "      <td>733963.032</td>\n",
       "      <td>2892000</td>\n",
       "      <td>9454972.161</td>\n",
       "      <td>27959177.0</td>\n",
       "      <td>-658883.053</td>\n",
       "      <td>24493494.87</td>\n",
       "      <td>24.80</td>\n",
       "      <td>14.48</td>\n",
       "    </tr>\n",
       "    <tr>\n",
       "      <th>1</th>\n",
       "      <td>2/28/94</td>\n",
       "      <td>6770326.0</td>\n",
       "      <td>6313000</td>\n",
       "      <td>116000</td>\n",
       "      <td>6197498.0</td>\n",
       "      <td>335351000.0</td>\n",
       "      <td>77211.714</td>\n",
       "      <td>3237000</td>\n",
       "      <td>9313861.429</td>\n",
       "      <td>27959177.0</td>\n",
       "      <td>2352418.325</td>\n",
       "      <td>24477904.76</td>\n",
       "      <td>25.25</td>\n",
       "      <td>14.79</td>\n",
       "    </tr>\n",
       "    <tr>\n",
       "      <th>2</th>\n",
       "      <td>3/31/94</td>\n",
       "      <td>6745622.0</td>\n",
       "      <td>6372000</td>\n",
       "      <td>41000</td>\n",
       "      <td>6331468.0</td>\n",
       "      <td>342345000.0</td>\n",
       "      <td>242361.355</td>\n",
       "      <td>3006000</td>\n",
       "      <td>9380460.548</td>\n",
       "      <td>27959177.0</td>\n",
       "      <td>880568.964</td>\n",
       "      <td>24520851.10</td>\n",
       "      <td>28.80</td>\n",
       "      <td>16.90</td>\n",
       "    </tr>\n",
       "    <tr>\n",
       "      <th>3</th>\n",
       "      <td>4/30/94</td>\n",
       "      <td>6612102.0</td>\n",
       "      <td>6955000</td>\n",
       "      <td>120000</td>\n",
       "      <td>6835867.0</td>\n",
       "      <td>339391000.0</td>\n",
       "      <td>302264.000</td>\n",
       "      <td>3728000</td>\n",
       "      <td>9303302.667</td>\n",
       "      <td>27959177.0</td>\n",
       "      <td>-734538.343</td>\n",
       "      <td>24370063.76</td>\n",
       "      <td>31.18</td>\n",
       "      <td>18.31</td>\n",
       "    </tr>\n",
       "    <tr>\n",
       "      <th>4</th>\n",
       "      <td>5/31/94</td>\n",
       "      <td>6688193.0</td>\n",
       "      <td>7198000</td>\n",
       "      <td>118000</td>\n",
       "      <td>7080258.0</td>\n",
       "      <td>331544000.0</td>\n",
       "      <td>259904.258</td>\n",
       "      <td>3771000</td>\n",
       "      <td>9339128.968</td>\n",
       "      <td>27959177.0</td>\n",
       "      <td>-2706335.628</td>\n",
       "      <td>24513404.04</td>\n",
       "      <td>32.89</td>\n",
       "      <td>19.37</td>\n",
       "    </tr>\n",
       "  </tbody>\n",
       "</table>\n",
       "</div>"
      ],
      "text/plain": [
       "      Date  US Production  US Import  US Exports  US Net Import    Inventory  \\\n",
       "0  1/31/94      6816779.0    5945000      110000      5835290.0  338067000.0   \n",
       "1  2/28/94      6770326.0    6313000      116000      6197498.0  335351000.0   \n",
       "2  3/31/94      6745622.0    6372000       41000      6331468.0  342345000.0   \n",
       "3  4/30/94      6612102.0    6955000      120000      6835867.0  339391000.0   \n",
       "4  5/31/94      6688193.0    7198000      118000      7080258.0  331544000.0   \n",
       "\n",
       "   Adjustment  Import from OPEC  Crude Oil and Liquid Fuels Supply  \\\n",
       "0  733963.032           2892000                        9454972.161   \n",
       "1   77211.714           3237000                        9313861.429   \n",
       "2  242361.355           3006000                        9380460.548   \n",
       "3  302264.000           3728000                        9303302.667   \n",
       "4  259904.258           3771000                        9339128.968   \n",
       "\n",
       "   OPEC Production Capacity  Net Inventory Withdrawals  OPEC Production  \\\n",
       "0                27959177.0                -658883.053      24493494.87   \n",
       "1                27959177.0                2352418.325      24477904.76   \n",
       "2                27959177.0                 880568.964      24520851.10   \n",
       "3                27959177.0                -734538.343      24370063.76   \n",
       "4                27959177.0               -2706335.628      24513404.04   \n",
       "\n",
       "   Value  Nominal  \n",
       "0  24.80    14.48  \n",
       "1  25.25    14.79  \n",
       "2  28.80    16.90  \n",
       "3  31.18    18.31  \n",
       "4  32.89    19.37  "
      ]
     },
     "execution_count": 2,
     "metadata": {},
     "output_type": "execute_result"
    }
   ],
   "source": [
    "oil_df = pd.read_csv(\"us_crude_oil.csv\")\n",
    "oil_df = oil_df.iloc[::-1].reset_index(drop=True)\n",
    "oil_df.head()"
   ]
  },
  {
   "cell_type": "code",
   "execution_count": 3,
   "metadata": {},
   "outputs": [
    {
     "data": {
      "text/plain": [
       "Index(['Date', 'US Production', 'US Import', 'US Exports', 'US Net Import',\n",
       "       'Inventory', 'Adjustment', 'Import from OPEC',\n",
       "       'Crude Oil and Liquid Fuels Supply', 'OPEC Production Capacity',\n",
       "       'Net Inventory Withdrawals', 'OPEC Production', 'Value', 'Nominal'],\n",
       "      dtype='object')"
      ]
     },
     "execution_count": 3,
     "metadata": {},
     "output_type": "execute_result"
    }
   ],
   "source": [
    "oil_df.columns"
   ]
  },
  {
   "cell_type": "code",
   "execution_count": 4,
   "metadata": {},
   "outputs": [
    {
     "name": "stdout",
     "output_type": "stream",
     "text": [
      "(299, 11) (299, 1)\n"
     ]
    }
   ],
   "source": [
    "X = oil_df[['US Production', 'US Import', 'US Exports', 'US Net Import',\n",
    "       'Inventory', 'Adjustment', 'Import from OPEC',\n",
    "       'Crude Oil and Liquid Fuels Supply', 'OPEC Production Capacity',\n",
    "       'Net Inventory Withdrawals', 'OPEC Production']]\n",
    "y = oil_df[\"Value\"].values.reshape(-1, 1)\n",
    "print(X.shape, y.shape)"
   ]
  },
  {
   "cell_type": "code",
   "execution_count": 5,
   "metadata": {},
   "outputs": [],
   "source": [
    "X_train = X[:200]\n",
    "y_train = y[:200]\n",
    "X_test = X[200:]\n",
    "y_test = y[200:]\n",
    "\n",
    "X_scaler = StandardScaler().fit(X_train)\n",
    "y_scaler = StandardScaler().fit(y_train)"
   ]
  },
  {
   "cell_type": "code",
   "execution_count": 6,
   "metadata": {},
   "outputs": [],
   "source": [
    "#X_train_scaled = X_scaler.transform(X_train)\n",
    "#X_test_scaled = X_scaler.transform(X_test)\n",
    "#y_train_scaled = y_scaler.transform(y_train)\n",
    "#y_test_scaled = y_scaler.transform(y_test)"
   ]
  },
  {
   "cell_type": "code",
   "execution_count": 7,
   "metadata": {},
   "outputs": [
    {
     "data": {
      "text/plain": [
       "LinearRegression(copy_X=True, fit_intercept=True, n_jobs=1, normalize=False)"
      ]
     },
     "execution_count": 7,
     "metadata": {},
     "output_type": "execute_result"
    }
   ],
   "source": [
    "model = LinearRegression()\n",
    "model.fit(X_train, y_train)"
   ]
  },
  {
   "cell_type": "code",
   "execution_count": 8,
   "metadata": {},
   "outputs": [
    {
     "data": {
      "image/png": "[encoded data removed]",
      "text/plain": [
       "<Figure size 432x288 with 1 Axes>"
      ]
     },
     "metadata": {
      "needs_background": "light"
     },
     "output_type": "display_data"
    }
   ],
   "source": [
    "predictions = model.predict(X_test)\n",
    "\n",
    "plt.scatter(model.predict(X_train), model.predict(X_train) - y_train, c=\"blue\", label=\"Training Data\")\n",
    "plt.scatter(model.predict(X_test), model.predict(X_test) - y_test, c=\"orange\", label=\"Testing Data\")\n",
    "plt.legend()\n",
    "plt.hlines(y=0, xmin=y_test.min(), xmax=y_train.max())\n",
    "plt.title(\"Residual Plot\")\n",
    "plt.show()"
   ]
  },
  {
   "cell_type": "code",
   "execution_count": 9,
   "metadata": {},
   "outputs": [
    {
     "name": "stdout",
     "output_type": "stream",
     "text": [
      "MSE: 3297.0441742813764, R2: -3.6751189162502618\n"
     ]
    }
   ],
   "source": [
    "MSE = mean_squared_error(y_test, predictions)\n",
    "r2 = model.score(X_test, y_test)\n",
    "print(f\"MSE: {MSE}, R2: {r2}\")"
   ]
  },
  {
   "cell_type": "code",
   "execution_count": 14,
   "metadata": {},
   "outputs": [
    {
     "data": {
      "image/png": "[encoded data removed]",
      "text/plain": [
       "<Figure size 864x576 with 1 Axes>"
      ]
     },
     "metadata": {
      "needs_background": "light"
     },
     "output_type": "display_data"
    }
   ],
   "source": [
    "plt.figure(figsize=(12,8))\n",
    "plt.plot(oil_df[\"Date\"],oil_df[\"Value\"],c=\"b\",label=\"Training Data\")\n",
    "plt.plot(oil_df[\"Date\"][200:],y_test,c=\"g\", label=\"Testing Data\")\n",
    "plt.plot(oil_df[\"Date\"][200:],predictions,c=\"orange\",label=\"Predictions\")\n",
    "plt.legend()\n",
    "plt.xticks(np.arange(-14.9, 312.9,step=44))\n",
    "plt.title(\"Linear Fit\")\n",
    "plt.savefig(\"linear_fit.png\")"
   ]
  },
  {
   "cell_type": "code",
   "execution_count": 11,
   "metadata": {},
   "outputs": [
    {
     "name": "stdout",
     "output_type": "stream",
     "text": [
      "MSE: 3134.4462423265627, R2: -3.4445594735364535\n"
     ]
    },
    {
     "name": "stderr",
     "output_type": "stream",
     "text": [
      "/Users/YoYoYe/anaconda3/lib/python3.7/site-packages/sklearn/linear_model/coordinate_descent.py:491: ConvergenceWarning: Objective did not converge. You might want to increase the number of iterations. Fitting data with very small alpha may cause precision problems.\n",
      "  ConvergenceWarning)\n"
     ]
    }
   ],
   "source": [
    "from sklearn.linear_model import Lasso\n",
    "\n",
    "lasso = Lasso(alpha=.01).fit(X_train, y_train)\n",
    "\n",
    "predictions = lasso.predict(X_test)\n",
    "\n",
    "MSE = mean_squared_error(y_test, predictions)\n",
    "r2 = lasso.score(X_test, y_test)\n",
    "\n",
    "print(f\"MSE: {MSE}, R2: {r2}\")"
   ]
  },
  {
   "cell_type": "code",
   "execution_count": 12,
   "metadata": {},
   "outputs": [
    {
     "name": "stdout",
     "output_type": "stream",
     "text": [
      "MSE: 3297.0442461546363, R2: -3.6751190181645885\n"
     ]
    }
   ],
   "source": [
    "from sklearn.linear_model import Ridge\n",
    "\n",
    "ridge = Ridge(alpha=.01).fit(X_train, y_train)\n",
    "\n",
    "predictions = ridge.predict(X_test)\n",
    "\n",
    "MSE = mean_squared_error(y_test, predictions)\n",
    "r2 = ridge.score(X_test, y_test)\n",
    "\n",
    "print(f\"MSE: {MSE}, R2: {r2}\")"
   ]
  },
  {
   "cell_type": "code",
   "execution_count": 13,
   "metadata": {},
   "outputs": [
    {
     "name": "stdout",
     "output_type": "stream",
     "text": [
      "MSE: 3134.446103157421, R2: -3.4445592761983983\n"
     ]
    },
    {
     "name": "stderr",
     "output_type": "stream",
     "text": [
      "/Users/YoYoYe/anaconda3/lib/python3.7/site-packages/sklearn/linear_model/coordinate_descent.py:491: ConvergenceWarning: Objective did not converge. You might want to increase the number of iterations. Fitting data with very small alpha may cause precision problems.\n",
      "  ConvergenceWarning)\n"
     ]
    }
   ],
   "source": [
    "from sklearn.linear_model import ElasticNet\n",
    "\n",
    "elasticnet = ElasticNet(alpha=.01).fit(X_train, y_train)\n",
    "\n",
    "predictions = elasticnet.predict(X_test)\n",
    "\n",
    "MSE = mean_squared_error(y_test, predictions)\n",
    "r2 = elasticnet.score(X_test, y_test)\n",
    "\n",
    "print(f\"MSE: {MSE}, R2: {r2}\")"
   ]
  },
  {
   "cell_type": "code",
   "execution_count": null,
   "metadata": {},
   "outputs": [],
   "source": []
  }
 ],
 "metadata": {
  "kernelspec": {
   "display_name": "Python 3",
   "language": "python",
   "name": "python3"
  },
  "language_info": {
   "codemirror_mode": {
    "name": "ipython",
    "version": 3
   },
   "file_extension": ".py",
   "mimetype": "text/x-python",
   "name": "python",
   "nbconvert_exporter": "python",
   "pygments_lexer": "ipython3",
   "version": "3.7.2"
  }
 },
 "nbformat": 4,
 "nbformat_minor": 2
}
